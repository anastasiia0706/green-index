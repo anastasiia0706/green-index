{
 "cells": [
  {
   "cell_type": "code",
   "execution_count": 132,
   "metadata": {},
   "outputs": [
    {
     "data": {
      "text/html": [
       "<div>\n",
       "<style scoped>\n",
       "    .dataframe tbody tr th:only-of-type {\n",
       "        vertical-align: middle;\n",
       "    }\n",
       "\n",
       "    .dataframe tbody tr th {\n",
       "        vertical-align: top;\n",
       "    }\n",
       "\n",
       "    .dataframe thead th {\n",
       "        text-align: right;\n",
       "    }\n",
       "</style>\n",
       "<table border=\"1\" class=\"dataframe\">\n",
       "  <thead>\n",
       "    <tr style=\"text-align: right;\">\n",
       "      <th></th>\n",
       "      <th>Country Name</th>\n",
       "      <th>2019</th>\n",
       "      <th>2020</th>\n",
       "      <th>2021</th>\n",
       "      <th>2022</th>\n",
       "      <th>2023</th>\n",
       "    </tr>\n",
       "  </thead>\n",
       "  <tbody>\n",
       "    <tr>\n",
       "      <th>0</th>\n",
       "      <td>Albania</td>\n",
       "      <td>28.791971</td>\n",
       "      <td>28.791971</td>\n",
       "      <td>28.791971</td>\n",
       "      <td>28.791971</td>\n",
       "      <td>NaN</td>\n",
       "    </tr>\n",
       "    <tr>\n",
       "      <th>1</th>\n",
       "      <td>Andorra</td>\n",
       "      <td>34.042553</td>\n",
       "      <td>34.042553</td>\n",
       "      <td>34.042553</td>\n",
       "      <td>34.042553</td>\n",
       "      <td>NaN</td>\n",
       "    </tr>\n",
       "    <tr>\n",
       "      <th>2</th>\n",
       "      <td>Armenia</td>\n",
       "      <td>11.544784</td>\n",
       "      <td>11.537408</td>\n",
       "      <td>11.530032</td>\n",
       "      <td>11.522655</td>\n",
       "      <td>NaN</td>\n",
       "    </tr>\n",
       "    <tr>\n",
       "      <th>3</th>\n",
       "      <td>Austria</td>\n",
       "      <td>47.103732</td>\n",
       "      <td>47.137906</td>\n",
       "      <td>47.172079</td>\n",
       "      <td>47.206132</td>\n",
       "      <td>NaN</td>\n",
       "    </tr>\n",
       "    <tr>\n",
       "      <th>4</th>\n",
       "      <td>Azerbaijan</td>\n",
       "      <td>13.553367</td>\n",
       "      <td>13.694190</td>\n",
       "      <td>13.832991</td>\n",
       "      <td>13.972482</td>\n",
       "      <td>NaN</td>\n",
       "    </tr>\n",
       "  </tbody>\n",
       "</table>\n",
       "</div>"
      ],
      "text/plain": [
       "  Country Name       2019       2020       2021       2022  2023\n",
       "0      Albania  28.791971  28.791971  28.791971  28.791971   NaN\n",
       "1      Andorra  34.042553  34.042553  34.042553  34.042553   NaN\n",
       "2      Armenia  11.544784  11.537408  11.530032  11.522655   NaN\n",
       "3      Austria  47.103732  47.137906  47.172079  47.206132   NaN\n",
       "4   Azerbaijan  13.553367  13.694190  13.832991  13.972482   NaN"
      ]
     },
     "execution_count": 132,
     "metadata": {},
     "output_type": "execute_result"
    }
   ],
   "source": [
    "import pandas as pd\n",
    "import seaborn as sns\n",
    "import matplotlib.pyplot as plt\n",
    "\n",
    "df = pd.read_csv('../data_final/final_european_forest_data.csv')\n",
    "\n",
    "# Filter for only needed columns\n",
    "relevant_columns = ['Country Name', '2019', '2020', '2021', '2022', '2023']\n",
    "\n",
    "filtered_df = df[relevant_columns]\n",
    "filtered_df.head()\n"
   ]
  },
  {
   "cell_type": "code",
   "execution_count": 133,
   "metadata": {},
   "outputs": [
    {
     "name": "stdout",
     "output_type": "stream",
     "text": [
      "Data shape: 49 rows, 6 columns\n"
     ]
    }
   ],
   "source": [
    "print(f'Data shape: {filtered_df.shape[0]} rows, {filtered_df.shape[1]} columns')"
   ]
  },
  {
   "cell_type": "code",
   "execution_count": 134,
   "metadata": {},
   "outputs": [
    {
     "name": "stdout",
     "output_type": "stream",
     "text": [
      "There are 49 in the dataset\n",
      "Countries:               Country Name       2019       2020       2021       2022  2023\n",
      "0                  Albania  28.791971  28.791971  28.791971  28.791971   NaN\n",
      "1                  Andorra  34.042553  34.042553  34.042553  34.042553   NaN\n",
      "2                  Armenia  11.544784  11.537408  11.530032  11.522655   NaN\n",
      "3                  Austria  47.103732  47.137906  47.172079  47.206132   NaN\n",
      "4               Azerbaijan  13.553367  13.694190  13.832991  13.972482   NaN\n",
      "8                  Belarus  43.126155  43.194403  43.272235  43.335140   NaN\n",
      "5                  Belgium  22.604447  22.604447  22.604447  22.604447   NaN\n",
      "7   Bosnia and Herzegovina  42.732617  42.732617  42.732617  42.732617   NaN\n",
      "6                 Bulgaria  35.740604  35.860354  35.980103  36.099853   NaN\n",
      "20                 Croatia  34.604567  34.651716  34.696390  34.741065   NaN\n",
      "10                  Cyprus  18.674242  18.672078  18.669913  18.667749   NaN\n",
      "12                 Denmark  15.687500  15.711000  15.734500  15.758000   NaN\n",
      "14                 Estonia  57.038596  57.038596  57.038596  57.065294   NaN\n",
      "15                 Finland  73.730793  73.728367  73.726500  73.726500   NaN\n",
      "16                  France  31.356735  31.509048  31.661361  31.813674   NaN\n",
      "18                 Georgia  40.615916  40.615916  40.615916  40.615916   NaN\n",
      "11                 Germany  32.682676  32.682676  32.682676  32.685482   NaN\n",
      "19                  Greece  30.269977  30.269977  30.269977  30.269977   NaN\n",
      "21                 Hungary  22.512273  22.496274  22.480350  22.464375   NaN\n",
      "23                 Iceland   0.502727   0.509273   0.515720   0.522265   NaN\n",
      "22                 Ireland  11.293657  11.351720  11.409784  11.467847   NaN\n",
      "24                   Italy  32.166970  32.348935  32.530899  32.712532   NaN\n",
      "25              Kazakhstan   1.268822   1.279653   1.290484   1.301315   NaN\n",
      "48                  Kosovo        NaN        NaN        NaN        NaN   NaN\n",
      "29                  Latvia  54.749867  54.809417  54.871605  54.933794   NaN\n",
      "26           Liechtenstein  41.875000  41.875000  41.875000  41.875000   NaN\n",
      "27               Lithuania  35.132546  35.148515  35.180749  35.203644   NaN\n",
      "28              Luxembourg  34.453827  34.453827  34.453827  34.453827   NaN\n",
      "33                   Malta   1.437500   1.437500   1.437500   1.437500   NaN\n",
      "31                 Moldova  11.752757  11.753222  11.722778  11.751292   NaN\n",
      "30                  Monaco   0.000000   0.000000   0.000000   0.000000   NaN\n",
      "34              Montenegro  61.486989  61.486989  61.486989  61.486989   NaN\n",
      "35             Netherlands  10.946540  10.974161  11.001981  11.029667   NaN\n",
      "32         North Macedonia  39.710151  39.710151  39.710151  39.710151   NaN\n",
      "36                  Norway  33.339907  33.435360  33.458149  33.479562   NaN\n",
      "37                  Poland  30.939858  30.977036  31.019275  31.059492   NaN\n",
      "38                Portugal  36.154995  36.154995  36.154995  36.154995   NaN\n",
      "39                 Romania  30.115829  30.115829  30.115829  30.115829   NaN\n",
      "40      Russian Federation  49.784336  49.784336  49.784336  49.784336   NaN\n",
      "41              San Marino  16.666667  16.666667  16.666667  16.666667   NaN\n",
      "42                  Serbia  31.125314  32.377809  32.381258  32.385816   NaN\n",
      "43         Slovak Republic  40.056156  40.056156  40.056156  40.056156   NaN\n",
      "44                Slovenia  61.573072  61.472259  61.371114  61.270192   NaN\n",
      "13                   Spain  37.167722  37.177305  37.172752  37.182792   NaN\n",
      "45                  Sweden  68.699666  68.699666  68.699666  68.699666   NaN\n",
      "9              Switzerland  32.034469  32.121536  32.208603  32.295671   NaN\n",
      "46                 Turkiye  28.668789  28.871484  29.074179  29.276873   NaN\n",
      "47                 Ukraine  16.713842  16.724197  16.734553  16.744909   NaN\n",
      "17          United Kingdom  13.152565  13.185632  13.221455  13.255487   NaN\n"
     ]
    }
   ],
   "source": [
    "# Get the distinct countries\n",
    "distinct_countries_count = filtered_df['Country Name'].nunique()\n",
    "distinct_countries = filtered_df['Country Name'].unique()\n",
    "distinct_countries_sorted = filtered_df.sort_values(by='Country Name', ascending = True)\n",
    "\n",
    "# Display the result\n",
    "print(f'There are {distinct_countries_count} countries in the dataset')\n",
    "print(f'Countries: {distinct_countries_sorted}')\n",
    "\n"
   ]
  },
  {
   "cell_type": "code",
   "execution_count": 135,
   "metadata": {},
   "outputs": [
    {
     "data": {
      "text/html": [
       "<div>\n",
       "<style scoped>\n",
       "    .dataframe tbody tr th:only-of-type {\n",
       "        vertical-align: middle;\n",
       "    }\n",
       "\n",
       "    .dataframe tbody tr th {\n",
       "        vertical-align: top;\n",
       "    }\n",
       "\n",
       "    .dataframe thead th {\n",
       "        text-align: right;\n",
       "    }\n",
       "</style>\n",
       "<table border=\"1\" class=\"dataframe\">\n",
       "  <thead>\n",
       "    <tr style=\"text-align: right;\">\n",
       "      <th></th>\n",
       "      <th>2019</th>\n",
       "      <th>2020</th>\n",
       "      <th>2021</th>\n",
       "      <th>2022</th>\n",
       "      <th>2023</th>\n",
       "    </tr>\n",
       "  </thead>\n",
       "  <tbody>\n",
       "    <tr>\n",
       "      <th>count</th>\n",
       "      <td>48.000000</td>\n",
       "      <td>48.000000</td>\n",
       "      <td>48.000000</td>\n",
       "      <td>48.000000</td>\n",
       "      <td>0.0</td>\n",
       "    </tr>\n",
       "    <tr>\n",
       "      <th>mean</th>\n",
       "      <td>31.237168</td>\n",
       "      <td>31.290211</td>\n",
       "      <td>31.315451</td>\n",
       "      <td>31.342295</td>\n",
       "      <td>NaN</td>\n",
       "    </tr>\n",
       "    <tr>\n",
       "      <th>std</th>\n",
       "      <td>17.580729</td>\n",
       "      <td>17.575229</td>\n",
       "      <td>17.569860</td>\n",
       "      <td>17.564063</td>\n",
       "      <td>NaN</td>\n",
       "    </tr>\n",
       "    <tr>\n",
       "      <th>min</th>\n",
       "      <td>0.000000</td>\n",
       "      <td>0.000000</td>\n",
       "      <td>0.000000</td>\n",
       "      <td>0.000000</td>\n",
       "      <td>NaN</td>\n",
       "    </tr>\n",
       "    <tr>\n",
       "      <th>25%</th>\n",
       "      <td>16.702048</td>\n",
       "      <td>16.709815</td>\n",
       "      <td>16.717581</td>\n",
       "      <td>16.725348</td>\n",
       "      <td>NaN</td>\n",
       "    </tr>\n",
       "    <tr>\n",
       "      <th>50%</th>\n",
       "      <td>32.100720</td>\n",
       "      <td>32.363372</td>\n",
       "      <td>32.456079</td>\n",
       "      <td>32.535649</td>\n",
       "      <td>NaN</td>\n",
       "    </tr>\n",
       "    <tr>\n",
       "      <th>75%</th>\n",
       "      <td>40.196096</td>\n",
       "      <td>40.196096</td>\n",
       "      <td>40.196096</td>\n",
       "      <td>40.196096</td>\n",
       "      <td>NaN</td>\n",
       "    </tr>\n",
       "    <tr>\n",
       "      <th>max</th>\n",
       "      <td>73.730793</td>\n",
       "      <td>73.728367</td>\n",
       "      <td>73.726500</td>\n",
       "      <td>73.726500</td>\n",
       "      <td>NaN</td>\n",
       "    </tr>\n",
       "  </tbody>\n",
       "</table>\n",
       "</div>"
      ],
      "text/plain": [
       "            2019       2020       2021       2022  2023\n",
       "count  48.000000  48.000000  48.000000  48.000000   0.0\n",
       "mean   31.237168  31.290211  31.315451  31.342295   NaN\n",
       "std    17.580729  17.575229  17.569860  17.564063   NaN\n",
       "min     0.000000   0.000000   0.000000   0.000000   NaN\n",
       "25%    16.702048  16.709815  16.717581  16.725348   NaN\n",
       "50%    32.100720  32.363372  32.456079  32.535649   NaN\n",
       "75%    40.196096  40.196096  40.196096  40.196096   NaN\n",
       "max    73.730793  73.728367  73.726500  73.726500   NaN"
      ]
     },
     "execution_count": 135,
     "metadata": {},
     "output_type": "execute_result"
    }
   ],
   "source": [
    "filtered_df.describe()"
   ]
  },
  {
   "cell_type": "code",
   "execution_count": 136,
   "metadata": {},
   "outputs": [
    {
     "data": {
      "text/plain": [
       "<Axes: >"
      ]
     },
     "execution_count": 136,
     "metadata": {},
     "output_type": "execute_result"
    },
    {
     "data": {
      "image/png": "[encoded data removed]",
      "text/plain": [
       "<Figure size 640x480 with 1 Axes>"
      ]
     },
     "metadata": {},
     "output_type": "display_data"
    }
   ],
   "source": [
    "# Display null values\n",
    "sns.heatmap(filtered_df.isnull(), yticklabels = False, cbar = False, cmap = 'rainbow')"
   ]
  },
  {
   "cell_type": "code",
   "execution_count": 137,
   "metadata": {},
   "outputs": [
    {
     "data": {
      "text/plain": [
       "Country Name     0\n",
       "2019             1\n",
       "2020             1\n",
       "2021             1\n",
       "2022             1\n",
       "2023            49\n",
       "dtype: int64"
      ]
     },
     "execution_count": 137,
     "metadata": {},
     "output_type": "execute_result"
    }
   ],
   "source": [
    "# Count null values\n",
    "filtered_df.isnull().sum()\n"
   ]
  },
  {
   "cell_type": "code",
   "execution_count": 138,
   "metadata": {},
   "outputs": [
    {
     "data": {
      "text/html": [
       "<div>\n",
       "<style scoped>\n",
       "    .dataframe tbody tr th:only-of-type {\n",
       "        vertical-align: middle;\n",
       "    }\n",
       "\n",
       "    .dataframe tbody tr th {\n",
       "        vertical-align: top;\n",
       "    }\n",
       "\n",
       "    .dataframe thead th {\n",
       "        text-align: right;\n",
       "    }\n",
       "</style>\n",
       "<table border=\"1\" class=\"dataframe\">\n",
       "  <thead>\n",
       "    <tr style=\"text-align: right;\">\n",
       "      <th></th>\n",
       "      <th>Country Name</th>\n",
       "      <th>2019</th>\n",
       "      <th>2020</th>\n",
       "      <th>2021</th>\n",
       "      <th>2022</th>\n",
       "      <th>2023</th>\n",
       "    </tr>\n",
       "  </thead>\n",
       "  <tbody>\n",
       "    <tr>\n",
       "      <th>43</th>\n",
       "      <td>Slovak Republic</td>\n",
       "      <td>40.056156</td>\n",
       "      <td>40.056156</td>\n",
       "      <td>40.056156</td>\n",
       "      <td>40.056156</td>\n",
       "      <td>NaN</td>\n",
       "    </tr>\n",
       "    <tr>\n",
       "      <th>44</th>\n",
       "      <td>Slovenia</td>\n",
       "      <td>61.573072</td>\n",
       "      <td>61.472259</td>\n",
       "      <td>61.371114</td>\n",
       "      <td>61.270192</td>\n",
       "      <td>NaN</td>\n",
       "    </tr>\n",
       "    <tr>\n",
       "      <th>45</th>\n",
       "      <td>Sweden</td>\n",
       "      <td>68.699666</td>\n",
       "      <td>68.699666</td>\n",
       "      <td>68.699666</td>\n",
       "      <td>68.699666</td>\n",
       "      <td>NaN</td>\n",
       "    </tr>\n",
       "    <tr>\n",
       "      <th>46</th>\n",
       "      <td>Turkiye</td>\n",
       "      <td>28.668789</td>\n",
       "      <td>28.871484</td>\n",
       "      <td>29.074179</td>\n",
       "      <td>29.276873</td>\n",
       "      <td>NaN</td>\n",
       "    </tr>\n",
       "    <tr>\n",
       "      <th>47</th>\n",
       "      <td>Ukraine</td>\n",
       "      <td>16.713842</td>\n",
       "      <td>16.724197</td>\n",
       "      <td>16.734553</td>\n",
       "      <td>16.744909</td>\n",
       "      <td>NaN</td>\n",
       "    </tr>\n",
       "  </tbody>\n",
       "</table>\n",
       "</div>"
      ],
      "text/plain": [
       "       Country Name       2019       2020       2021       2022  2023\n",
       "43  Slovak Republic  40.056156  40.056156  40.056156  40.056156   NaN\n",
       "44         Slovenia  61.573072  61.472259  61.371114  61.270192   NaN\n",
       "45           Sweden  68.699666  68.699666  68.699666  68.699666   NaN\n",
       "46          Turkiye  28.668789  28.871484  29.074179  29.276873   NaN\n",
       "47          Ukraine  16.713842  16.724197  16.734553  16.744909   NaN"
      ]
     },
     "execution_count": 138,
     "metadata": {},
     "output_type": "execute_result"
    }
   ],
   "source": [
    "# Drop rows for Kosovo\n",
    "countries_to_drop = ['Kosovo']\n",
    "\n",
    "filtered_df = filtered_df[~filtered_df['Country Name'].isin(countries_to_drop)]\n",
    "filtered_df.tail()\n"
   ]
  },
  {
   "cell_type": "code",
   "execution_count": 139,
   "metadata": {},
   "outputs": [
    {
     "data": {
      "text/html": [
       "<div>\n",
       "<style scoped>\n",
       "    .dataframe tbody tr th:only-of-type {\n",
       "        vertical-align: middle;\n",
       "    }\n",
       "\n",
       "    .dataframe tbody tr th {\n",
       "        vertical-align: top;\n",
       "    }\n",
       "\n",
       "    .dataframe thead th {\n",
       "        text-align: right;\n",
       "    }\n",
       "</style>\n",
       "<table border=\"1\" class=\"dataframe\">\n",
       "  <thead>\n",
       "    <tr style=\"text-align: right;\">\n",
       "      <th></th>\n",
       "      <th>Country Name</th>\n",
       "      <th>2019</th>\n",
       "      <th>2020</th>\n",
       "      <th>2021</th>\n",
       "      <th>2022</th>\n",
       "    </tr>\n",
       "  </thead>\n",
       "  <tbody>\n",
       "    <tr>\n",
       "      <th>0</th>\n",
       "      <td>Albania</td>\n",
       "      <td>28.791971</td>\n",
       "      <td>28.791971</td>\n",
       "      <td>28.791971</td>\n",
       "      <td>28.791971</td>\n",
       "    </tr>\n",
       "    <tr>\n",
       "      <th>1</th>\n",
       "      <td>Andorra</td>\n",
       "      <td>34.042553</td>\n",
       "      <td>34.042553</td>\n",
       "      <td>34.042553</td>\n",
       "      <td>34.042553</td>\n",
       "    </tr>\n",
       "    <tr>\n",
       "      <th>2</th>\n",
       "      <td>Armenia</td>\n",
       "      <td>11.544784</td>\n",
       "      <td>11.537408</td>\n",
       "      <td>11.530032</td>\n",
       "      <td>11.522655</td>\n",
       "    </tr>\n",
       "    <tr>\n",
       "      <th>3</th>\n",
       "      <td>Austria</td>\n",
       "      <td>47.103732</td>\n",
       "      <td>47.137906</td>\n",
       "      <td>47.172079</td>\n",
       "      <td>47.206132</td>\n",
       "    </tr>\n",
       "    <tr>\n",
       "      <th>4</th>\n",
       "      <td>Azerbaijan</td>\n",
       "      <td>13.553367</td>\n",
       "      <td>13.694190</td>\n",
       "      <td>13.832991</td>\n",
       "      <td>13.972482</td>\n",
       "    </tr>\n",
       "  </tbody>\n",
       "</table>\n",
       "</div>"
      ],
      "text/plain": [
       "  Country Name       2019       2020       2021       2022\n",
       "0      Albania  28.791971  28.791971  28.791971  28.791971\n",
       "1      Andorra  34.042553  34.042553  34.042553  34.042553\n",
       "2      Armenia  11.544784  11.537408  11.530032  11.522655\n",
       "3      Austria  47.103732  47.137906  47.172079  47.206132\n",
       "4   Azerbaijan  13.553367  13.694190  13.832991  13.972482"
      ]
     },
     "execution_count": 139,
     "metadata": {},
     "output_type": "execute_result"
    }
   ],
   "source": [
    "# Drop rows for 2023 (To add prediction later)\n",
    "years_to_drop = ['2023']\n",
    "\n",
    "filtered_df = filtered_df.drop('2023', axis=1)\n",
    "filtered_df.head()\n"
   ]
  },
  {
   "cell_type": "code",
   "execution_count": 140,
   "metadata": {},
   "outputs": [
    {
     "data": {
      "image/png": "[encoded data removed]",
      "text/plain": [
       "<Figure size 640x480 with 1 Axes>"
      ]
     },
     "metadata": {},
     "output_type": "display_data"
    }
   ],
   "source": [
    "# TREND ANALYSIS OVER TIME - FOREST AREA OVER THE YEARS\n",
    "years = ['2019','2020','2021','2022']\n",
    "\n",
    "yearly_total_forest_area = filtered_df[years].mean(axis=0)\n",
    "plt.plot(yearly_total_forest_area.index, yearly_total_forest_area.values, marker='o')\n",
    "plt.title('Total Forest Area in Europe (2019 - 2022)')\n",
    "plt.xlabel('Year')\n",
    "plt.ylabel('Total Forest Area (% of land area)')\n",
    "plt.show()\n"
   ]
  },
  {
   "cell_type": "code",
   "execution_count": 141,
   "metadata": {},
   "outputs": [
    {
     "name": "stdout",
     "output_type": "stream",
     "text": [
      "              Country Name       2019       2020       2021       2022  \\\n",
      "15                 Finland  73.730793  73.728367  73.726500  73.726500   \n",
      "45                  Sweden  68.699666  68.699666  68.699666  68.699666   \n",
      "34              Montenegro  61.486989  61.486989  61.486989  61.486989   \n",
      "44                Slovenia  61.573072  61.472259  61.371114  61.270192   \n",
      "14                 Estonia  57.038596  57.038596  57.038596  57.065294   \n",
      "29                  Latvia  54.749867  54.809417  54.871605  54.933794   \n",
      "40      Russian Federation  49.784336  49.784336  49.784336  49.784336   \n",
      "3                  Austria  47.103732  47.137906  47.172079  47.206132   \n",
      "8                  Belarus  43.126155  43.194403  43.272235  43.335140   \n",
      "7   Bosnia and Herzegovina  42.732617  42.732617  42.732617  42.732617   \n",
      "\n",
      "         mean  \n",
      "15  73.728040  \n",
      "45  68.699666  \n",
      "34  61.486989  \n",
      "44  61.421659  \n",
      "14  57.045271  \n",
      "29  54.841171  \n",
      "40  49.784336  \n",
      "3   47.154962  \n",
      "8   43.231983  \n",
      "7   42.732617  \n"
     ]
    },
    {
     "data": {
      "image/png": "[encoded data removed]",
      "text/plain": [
       "<Figure size 640x480 with 1 Axes>"
      ]
     },
     "metadata": {},
     "output_type": "display_data"
    }
   ],
   "source": [
    "# TOP COUNTRIES WITH THE MOST FOREST AREA\n",
    "\n",
    "# Find mean value for every country\n",
    "filtered_df['mean'] = filtered_df.mean(axis=1,numeric_only=True)\n",
    "\n",
    "# Sort countries by forest area (DESC)\n",
    "top_countries = filtered_df.sort_values(by='mean', ascending=False)\n",
    "\n",
    "# Display\n",
    "print(top_countries.head(10))\n",
    "\n",
    "# Plot the top 10 countries\n",
    "plt.barh(top_countries['Country Name'][:10], top_countries['mean'][:10], color='green')\n",
    "plt.title('Top 10 Countries with the most forest area')\n",
    "plt.xlabel('Total Forest Area (% of land area)')\n",
    "plt.ylabel('Country')\n",
    "plt.show()\n",
    "\n"
   ]
  },
  {
   "cell_type": "code",
   "execution_count": 142,
   "metadata": {},
   "outputs": [
    {
     "name": "stdout",
     "output_type": "stream",
     "text": [
      "      Country Name       2019       2020       2021       2022       mean\n",
      "30          Monaco   0.000000   0.000000   0.000000   0.000000   0.000000\n",
      "23         Iceland   0.502727   0.509273   0.515720   0.522265   0.512496\n",
      "25      Kazakhstan   1.268822   1.279653   1.290484   1.301315   1.285069\n",
      "33           Malta   1.437500   1.437500   1.437500   1.437500   1.437500\n",
      "35     Netherlands  10.946540  10.974161  11.001981  11.029667  10.988087\n",
      "22         Ireland  11.293657  11.351720  11.409784  11.467847  11.380752\n",
      "2          Armenia  11.544784  11.537408  11.530032  11.522655  11.533720\n",
      "31         Moldova  11.752757  11.753222  11.722778  11.751292  11.745012\n",
      "17  United Kingdom  13.152565  13.185632  13.221455  13.255487  13.203785\n",
      "4       Azerbaijan  13.553367  13.694190  13.832991  13.972482  13.763257\n"
     ]
    },
    {
     "data": {
      "image/png": "[encoded data removed]",
      "text/plain": [
       "<Figure size 640x480 with 1 Axes>"
      ]
     },
     "metadata": {},
     "output_type": "display_data"
    }
   ],
   "source": [
    "# TOP COUNTRIES WITH THE LEAST FOREST AREA\n",
    "\n",
    "# Find mean value for every country\n",
    "filtered_df['mean'] = filtered_df.mean(axis=1,numeric_only=True)\n",
    "\n",
    "# Sort countries by forest area (ASC)\n",
    "top_countries = filtered_df.sort_values(by='mean', ascending=True)\n",
    "\n",
    "# Display\n",
    "print(top_countries.head(10))\n",
    "\n",
    "# Plot the top 10 countries\n",
    "plt.barh(top_countries['Country Name'][:10], top_countries['mean'][:10], color='green')\n",
    "plt.title('Top 10 Countries with the least forest area')\n",
    "plt.xlabel('Total Forest Area (% of land area)')\n",
    "plt.ylabel('Country')\n",
    "plt.show()\n"
   ]
  }
 ],
 "metadata": {
  "kernelspec": {
   "display_name": "Python 3",
   "language": "python",
   "name": "python3"
  },
  "language_info": {
   "codemirror_mode": {
    "name": "ipython",
    "version": 3
   },
   "file_extension": ".py",
   "mimetype": "text/x-python",
   "name": "python",
   "nbconvert_exporter": "python",
   "pygments_lexer": "ipython3",
   "version": "3.12.8"
  }
 },
 "nbformat": 4,
 "nbformat_minor": 2
}
